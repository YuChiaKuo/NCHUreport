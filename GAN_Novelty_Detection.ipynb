{
 "cells": [
  {
   "cell_type": "code",
   "execution_count": 1,
   "metadata": {},
   "outputs": [
    {
     "name": "stderr",
     "output_type": "stream",
     "text": [
      "Using TensorFlow backend.\n"
     ]
    }
   ],
   "source": [
    "from __future__ import print_function, division\n",
    "\n",
    "from keras.datasets import mnist\n",
    "from keras.layers import Input, Dense, Reshape, Flatten, Dropout, multiply, GaussianNoise\n",
    "from keras.layers import BatchNormalization, Activation, Embedding, ZeroPadding2D\n",
    "from keras.layers import Concatenate\n",
    "from keras.layers.advanced_activations import LeakyReLU\n",
    "from keras.layers.convolutional import UpSampling2D, Conv2D, Conv2DTranspose\n",
    "from keras.models import Sequential, Model\n",
    "from keras.optimizers import Adam, RMSprop\n",
    "from keras import losses\n",
    "from keras.callbacks import TensorBoard\n",
    "from keras.utils import to_categorical\n",
    "from keras.losses import binary_crossentropy\n",
    "import keras.backend as K\n",
    "import scipy\n",
    "import logging\n",
    "import matplotlib.pyplot as plt\n",
    "import os\n",
    "from utils import *\n",
    "from kh_tools import *\n",
    "import numpy as np"
   ]
  },
  {
   "cell_type": "code",
   "execution_count": 2,
   "metadata": {},
   "outputs": [],
   "source": [
    "import os\n",
    "import datetime\n",
    "import json\n",
    "from PIL import Image\n",
    "import numpy as np\n",
    "from glob import glob\n",
    "from PIL import Image, ImageDraw\n",
    "from scipy import ndimage, misc\n",
    "import scipy.misc\n",
    "import imageio\n",
    "\n",
    "from skimage.util import random_noise\n",
    "def get_noisy_data(data):\n",
    "    lst_noisy = []\n",
    "    sigma = 0.155\n",
    "    for image in data:\n",
    "        noisy = random_noise(image, var=sigma ** 2)\n",
    "        lst_noisy.append(noisy)\n",
    "    return np.array(lst_noisy)"
   ]
  },
  {
   "cell_type": "code",
   "execution_count": 4,
   "metadata": {},
   "outputs": [
    {
     "name": "stdout",
     "output_type": "stream",
     "text": [
      "\n",
      "discriminator\n",
      "_________________________________________________________________\n",
      "Layer (type)                 Output Shape              Param #   \n",
      "=================================================================\n",
      "d_input (InputLayer)         (None, 28, 28, 1)         0         \n",
      "_________________________________________________________________\n",
      "d_h0_conv (Conv2D)           (None, 14, 14, 16)        416       \n",
      "_________________________________________________________________\n",
      "leaky_re_lu_8 (LeakyReLU)    (None, 14, 14, 16)        0         \n",
      "_________________________________________________________________\n",
      "d_h1_conv (Conv2D)           (None, 7, 7, 32)          12832     \n",
      "_________________________________________________________________\n",
      "batch_normalization_7 (Batch (None, 7, 7, 32)          128       \n",
      "_________________________________________________________________\n",
      "leaky_re_lu_9 (LeakyReLU)    (None, 7, 7, 32)          0         \n",
      "_________________________________________________________________\n",
      "d_h2_conv (Conv2D)           (None, 4, 4, 64)          51264     \n",
      "_________________________________________________________________\n",
      "batch_normalization_8 (Batch (None, 4, 4, 64)          256       \n",
      "_________________________________________________________________\n",
      "leaky_re_lu_10 (LeakyReLU)   (None, 4, 4, 64)          0         \n",
      "_________________________________________________________________\n",
      "d_h3_conv (Conv2D)           (None, 2, 2, 128)         204928    \n",
      "_________________________________________________________________\n",
      "batch_normalization_9 (Batch (None, 2, 2, 128)         512       \n",
      "_________________________________________________________________\n",
      "leaky_re_lu_11 (LeakyReLU)   (None, 2, 2, 128)         0         \n",
      "_________________________________________________________________\n",
      "flatten_2 (Flatten)          (None, 512)               0         \n",
      "_________________________________________________________________\n",
      "d_h3_lin (Dense)             (None, 1)                 513       \n",
      "=================================================================\n",
      "Total params: 541,250\n",
      "Trainable params: 270,401\n",
      "Non-trainable params: 270,849\n",
      "_________________________________________________________________\n",
      "\n",
      "generator\n",
      "_________________________________________________________________\n",
      "Layer (type)                 Output Shape              Param #   \n",
      "=================================================================\n",
      "z (InputLayer)               (None, 28, 28, 1)         0         \n",
      "_________________________________________________________________\n",
      "g_encoder_h0_conv (Conv2D)   (None, 14, 14, 32)        832       \n",
      "_________________________________________________________________\n",
      "batch_normalization_10 (Batc (None, 14, 14, 32)        128       \n",
      "_________________________________________________________________\n",
      "leaky_re_lu_12 (LeakyReLU)   (None, 14, 14, 32)        0         \n",
      "_________________________________________________________________\n",
      "g_encoder_h1_conv (Conv2D)   (None, 7, 7, 64)          51264     \n",
      "_________________________________________________________________\n",
      "batch_normalization_11 (Batc (None, 7, 7, 64)          256       \n",
      "_________________________________________________________________\n",
      "leaky_re_lu_13 (LeakyReLU)   (None, 7, 7, 64)          0         \n",
      "_________________________________________________________________\n",
      "g_encoder_h2_conv (Conv2D)   (None, 4, 4, 128)         204928    \n",
      "_________________________________________________________________\n",
      "batch_normalization_12 (Batc (None, 4, 4, 128)         512       \n",
      "_________________________________________________________________\n",
      "leaky_re_lu_14 (LeakyReLU)   (None, 4, 4, 128)         0         \n",
      "_________________________________________________________________\n",
      "conv2d_5 (Conv2D)            (None, 4, 4, 16)          51216     \n",
      "_________________________________________________________________\n",
      "up_sampling2d_4 (UpSampling2 (None, 8, 8, 16)          0         \n",
      "_________________________________________________________________\n",
      "conv2d_6 (Conv2D)            (None, 8, 8, 16)          6416      \n",
      "_________________________________________________________________\n",
      "up_sampling2d_5 (UpSampling2 (None, 16, 16, 16)        0         \n",
      "_________________________________________________________________\n",
      "conv2d_7 (Conv2D)            (None, 14, 14, 32)        4640      \n",
      "_________________________________________________________________\n",
      "up_sampling2d_6 (UpSampling2 (None, 28, 28, 32)        0         \n",
      "_________________________________________________________________\n",
      "conv2d_8 (Conv2D)            (None, 28, 28, 1)         801       \n",
      "=================================================================\n",
      "Total params: 320,993\n",
      "Trainable params: 320,545\n",
      "Non-trainable params: 448\n",
      "_________________________________________________________________\n",
      "\n",
      "adversarial_model\n",
      "_________________________________________________________________\n",
      "Layer (type)                 Output Shape              Param #   \n",
      "=================================================================\n",
      "input_2 (InputLayer)         (None, 28, 28, 1)         0         \n",
      "_________________________________________________________________\n",
      "R (Model)                    (None, 28, 28, 1)         320993    \n",
      "_________________________________________________________________\n",
      "D (Model)                    (None, 1)                 270849    \n",
      "=================================================================\n",
      "Total params: 591,842\n",
      "Trainable params: 320,545\n",
      "Non-trainable params: 271,297\n",
      "_________________________________________________________________\n",
      "Epoch (0/4)-------------------------------------------------\n",
      "Epoch:[0]-[0/52] --> d_loss: 14.343, total_g_loss:6.194, lr_loss:0.777, g_loss:6.038\n",
      "Epoch:[0]-[1/52] --> d_loss: 12.734, total_g_loss:2.962, lr_loss:0.980, g_loss:2.766\n",
      "Epoch:[0]-[2/52] --> d_loss: 4.846, total_g_loss:11.035, lr_loss:0.681, g_loss:10.899\n",
      "Epoch:[0]-[3/52] --> d_loss: 7.621, total_g_loss:5.710, lr_loss:0.525, g_loss:5.605\n",
      "Epoch:[0]-[4/52] --> d_loss: 0.069, total_g_loss:0.785, lr_loss:0.931, g_loss:0.599\n",
      "Epoch:[0]-[5/52] --> d_loss: 4.786, total_g_loss:3.203, lr_loss:0.320, g_loss:3.139\n",
      "Epoch:[0]-[6/52] --> d_loss: 4.976, total_g_loss:1.408, lr_loss:0.218, g_loss:1.365\n",
      "Epoch:[0]-[7/52] --> d_loss: 2.841, total_g_loss:1.266, lr_loss:0.198, g_loss:1.226\n",
      "Epoch:[0]-[8/52] --> d_loss: 2.403, total_g_loss:1.280, lr_loss:0.168, g_loss:1.246\n",
      "Epoch:[0]-[9/52] --> d_loss: 2.298, total_g_loss:1.235, lr_loss:0.167, g_loss:1.202\n",
      "Epoch:[0]-[10/52] --> d_loss: 2.118, total_g_loss:1.192, lr_loss:0.160, g_loss:1.160\n",
      "Epoch:[0]-[11/52] --> d_loss: 2.089, total_g_loss:1.079, lr_loss:0.176, g_loss:1.044\n",
      "Epoch:[0]-[12/52] --> d_loss: 2.167, total_g_loss:1.097, lr_loss:0.163, g_loss:1.065\n",
      "Epoch:[0]-[13/52] --> d_loss: 2.079, total_g_loss:1.044, lr_loss:0.138, g_loss:1.016\n",
      "Epoch:[0]-[14/52] --> d_loss: 2.145, total_g_loss:1.027, lr_loss:0.143, g_loss:0.998\n",
      "Epoch:[0]-[15/52] --> d_loss: 2.171, total_g_loss:1.063, lr_loss:0.166, g_loss:1.030\n",
      "Epoch:[0]-[16/52] --> d_loss: 2.037, total_g_loss:1.058, lr_loss:0.140, g_loss:1.030\n",
      "Epoch:[0]-[17/52] --> d_loss: 1.964, total_g_loss:1.018, lr_loss:0.123, g_loss:0.994\n",
      "Epoch:[0]-[18/52] --> d_loss: 1.937, total_g_loss:1.004, lr_loss:0.125, g_loss:0.979\n",
      "Epoch:[0]-[19/52] --> d_loss: 1.934, total_g_loss:1.010, lr_loss:0.118, g_loss:0.986\n",
      "Epoch:[0]-[20/52] --> d_loss: 1.917, total_g_loss:0.999, lr_loss:0.123, g_loss:0.974\n",
      "Epoch:[0]-[21/52] --> d_loss: 1.892, total_g_loss:0.988, lr_loss:0.122, g_loss:0.964\n",
      "Epoch:[0]-[22/52] --> d_loss: 1.870, total_g_loss:0.975, lr_loss:0.101, g_loss:0.954\n",
      "Epoch:[0]-[23/52] --> d_loss: 1.879, total_g_loss:0.977, lr_loss:0.108, g_loss:0.955\n",
      "Epoch:[0]-[24/52] --> d_loss: 1.858, total_g_loss:0.966, lr_loss:0.098, g_loss:0.947\n",
      "Epoch:[0]-[25/52] --> d_loss: 1.864, total_g_loss:1.013, lr_loss:0.256, g_loss:0.962\n",
      "Epoch:[0]-[26/52] --> d_loss: 1.918, total_g_loss:1.015, lr_loss:0.117, g_loss:0.992\n",
      "Epoch:[0]-[27/52] --> d_loss: 1.901, total_g_loss:0.984, lr_loss:0.117, g_loss:0.961\n",
      "Epoch:[0]-[28/52] --> d_loss: 1.835, total_g_loss:0.970, lr_loss:0.108, g_loss:0.948\n",
      "Epoch:[0]-[29/52] --> d_loss: 1.824, total_g_loss:0.953, lr_loss:0.097, g_loss:0.934\n",
      "Epoch:[0]-[30/52] --> d_loss: 1.814, total_g_loss:0.951, lr_loss:0.116, g_loss:0.928\n"
     ]
    },
    {
     "name": "stdout",
     "output_type": "stream",
     "text": [
      "Epoch:[0]-[31/52] --> d_loss: 1.839, total_g_loss:0.993, lr_loss:0.211, g_loss:0.950\n",
      "Epoch:[0]-[32/52] --> d_loss: 1.832, total_g_loss:0.998, lr_loss:0.132, g_loss:0.972\n",
      "Epoch:[0]-[33/52] --> d_loss: 1.837, total_g_loss:0.980, lr_loss:0.301, g_loss:0.920\n",
      "Epoch:[0]-[34/52] --> d_loss: 1.860, total_g_loss:0.949, lr_loss:0.191, g_loss:0.911\n",
      "Epoch:[0]-[35/52] --> d_loss: 1.898, total_g_loss:0.967, lr_loss:0.251, g_loss:0.917\n",
      "Epoch:[0]-[36/52] --> d_loss: 1.837, total_g_loss:1.058, lr_loss:0.152, g_loss:1.027\n",
      "Epoch:[0]-[37/52] --> d_loss: 1.918, total_g_loss:0.941, lr_loss:0.124, g_loss:0.916\n",
      "Epoch:[0]-[38/52] --> d_loss: 1.872, total_g_loss:0.942, lr_loss:0.099, g_loss:0.922\n",
      "Epoch:[0]-[39/52] --> d_loss: 1.762, total_g_loss:0.946, lr_loss:0.101, g_loss:0.926\n",
      "Epoch:[0]-[40/52] --> d_loss: 1.693, total_g_loss:0.901, lr_loss:0.106, g_loss:0.880\n",
      "Epoch:[0]-[41/52] --> d_loss: 1.932, total_g_loss:0.953, lr_loss:0.150, g_loss:0.923\n",
      "Epoch:[0]-[42/52] --> d_loss: 1.805, total_g_loss:0.942, lr_loss:0.136, g_loss:0.915\n",
      "Epoch:[0]-[43/52] --> d_loss: 1.763, total_g_loss:0.954, lr_loss:0.134, g_loss:0.927\n",
      "Epoch:[0]-[44/52] --> d_loss: 1.687, total_g_loss:1.029, lr_loss:0.223, g_loss:0.984\n",
      "Epoch:[0]-[45/52] --> d_loss: 1.700, total_g_loss:1.005, lr_loss:0.141, g_loss:0.976\n",
      "Epoch:[0]-[46/52] --> d_loss: 3.139, total_g_loss:0.887, lr_loss:0.107, g_loss:0.866\n",
      "Epoch:[0]-[47/52] --> d_loss: 1.985, total_g_loss:0.916, lr_loss:0.175, g_loss:0.881\n",
      "Epoch:[0]-[48/52] --> d_loss: 1.860, total_g_loss:0.960, lr_loss:0.116, g_loss:0.937\n",
      "Epoch:[0]-[49/52] --> d_loss: 1.735, total_g_loss:0.951, lr_loss:0.113, g_loss:0.928\n",
      "Epoch:[0]-[50/52] --> d_loss: 1.743, total_g_loss:0.924, lr_loss:0.094, g_loss:0.905\n",
      "Epoch:[0]-[51/52] --> d_loss: 1.753, total_g_loss:0.914, lr_loss:0.106, g_loss:0.893\n",
      "Epoch (1/4)-------------------------------------------------\n",
      "Epoch:[1]-[0/52] --> d_loss: 1.720, total_g_loss:0.915, lr_loss:0.105, g_loss:0.894\n",
      "Epoch:[1]-[1/52] --> d_loss: 1.702, total_g_loss:0.911, lr_loss:0.099, g_loss:0.891\n",
      "Epoch:[1]-[2/52] --> d_loss: 1.717, total_g_loss:0.906, lr_loss:0.092, g_loss:0.887\n",
      "Epoch:[1]-[3/52] --> d_loss: 1.694, total_g_loss:0.897, lr_loss:0.106, g_loss:0.876\n",
      "Epoch:[1]-[4/52] --> d_loss: 1.743, total_g_loss:0.905, lr_loss:0.165, g_loss:0.872\n",
      "Epoch:[1]-[5/52] --> d_loss: 1.748, total_g_loss:0.941, lr_loss:0.132, g_loss:0.915\n",
      "Epoch:[1]-[6/52] --> d_loss: 1.768, total_g_loss:0.939, lr_loss:0.207, g_loss:0.898\n",
      "Epoch:[1]-[7/52] --> d_loss: 1.760, total_g_loss:0.922, lr_loss:0.175, g_loss:0.887\n",
      "Epoch:[1]-[8/52] --> d_loss: 1.718, total_g_loss:0.887, lr_loss:0.130, g_loss:0.861\n",
      "Epoch:[1]-[9/52] --> d_loss: 1.714, total_g_loss:0.890, lr_loss:0.120, g_loss:0.866\n",
      "Epoch:[1]-[10/52] --> d_loss: 1.697, total_g_loss:0.894, lr_loss:0.115, g_loss:0.871\n",
      "Epoch:[1]-[11/52] --> d_loss: 1.687, total_g_loss:0.903, lr_loss:0.109, g_loss:0.881\n",
      "Epoch:[1]-[12/52] --> d_loss: 1.630, total_g_loss:0.857, lr_loss:0.137, g_loss:0.829\n",
      "Epoch:[1]-[13/52] --> d_loss: 1.692, total_g_loss:0.863, lr_loss:0.115, g_loss:0.840\n",
      "Epoch:[1]-[14/52] --> d_loss: 1.692, total_g_loss:0.905, lr_loss:0.223, g_loss:0.861\n",
      "Epoch:[1]-[15/52] --> d_loss: 1.783, total_g_loss:1.242, lr_loss:0.182, g_loss:1.205\n",
      "Epoch:[1]-[16/52] --> d_loss: 1.887, total_g_loss:0.773, lr_loss:0.135, g_loss:0.746\n",
      "Epoch:[1]-[17/52] --> d_loss: 1.769, total_g_loss:0.820, lr_loss:0.128, g_loss:0.794\n",
      "Epoch:[1]-[18/52] --> d_loss: 1.701, total_g_loss:0.865, lr_loss:0.112, g_loss:0.842\n",
      "Epoch:[1]-[19/52] --> d_loss: 1.728, total_g_loss:0.909, lr_loss:0.120, g_loss:0.885\n",
      "Epoch:[1]-[20/52] --> d_loss: 1.730, total_g_loss:0.897, lr_loss:0.114, g_loss:0.875\n",
      "Epoch:[1]-[21/52] --> d_loss: 1.647, total_g_loss:0.830, lr_loss:0.134, g_loss:0.803\n",
      "Epoch:[1]-[22/52] --> d_loss: 1.745, total_g_loss:0.862, lr_loss:0.102, g_loss:0.842\n",
      "Epoch:[1]-[23/52] --> d_loss: 1.746, total_g_loss:0.866, lr_loss:0.216, g_loss:0.823\n",
      "Epoch:[1]-[24/52] --> d_loss: 1.700, total_g_loss:0.952, lr_loss:0.157, g_loss:0.921\n",
      "Epoch:[1]-[25/52] --> d_loss: 1.761, total_g_loss:0.877, lr_loss:0.118, g_loss:0.854\n",
      "Epoch:[1]-[26/52] --> d_loss: 1.680, total_g_loss:0.873, lr_loss:0.118, g_loss:0.850\n",
      "Epoch:[1]-[27/52] --> d_loss: 1.686, total_g_loss:0.872, lr_loss:0.109, g_loss:0.850\n",
      "Epoch:[1]-[28/52] --> d_loss: 1.745, total_g_loss:0.836, lr_loss:0.110, g_loss:0.814\n",
      "Epoch:[1]-[29/52] --> d_loss: 1.720, total_g_loss:0.866, lr_loss:0.097, g_loss:0.846\n",
      "Epoch:[1]-[30/52] --> d_loss: 1.667, total_g_loss:0.851, lr_loss:0.095, g_loss:0.832\n",
      "Epoch:[1]-[31/52] --> d_loss: 1.660, total_g_loss:0.837, lr_loss:0.122, g_loss:0.812\n",
      "Epoch:[1]-[32/52] --> d_loss: 1.706, total_g_loss:0.919, lr_loss:0.107, g_loss:0.898\n",
      "Epoch:[1]-[33/52] --> d_loss: 1.698, total_g_loss:0.868, lr_loss:0.097, g_loss:0.849\n",
      "Epoch:[1]-[34/52] --> d_loss: 1.691, total_g_loss:0.865, lr_loss:0.088, g_loss:0.848\n",
      "Epoch:[1]-[35/52] --> d_loss: 1.656, total_g_loss:0.845, lr_loss:0.093, g_loss:0.826\n",
      "Epoch:[1]-[36/52] --> d_loss: 1.727, total_g_loss:0.909, lr_loss:0.098, g_loss:0.889\n",
      "Epoch:[1]-[37/52] --> d_loss: 1.673, total_g_loss:0.854, lr_loss:0.108, g_loss:0.832\n",
      "Epoch:[1]-[38/52] --> d_loss: 1.705, total_g_loss:0.862, lr_loss:0.100, g_loss:0.842\n",
      "Epoch:[1]-[39/52] --> d_loss: 1.678, total_g_loss:0.874, lr_loss:0.220, g_loss:0.830\n",
      "Epoch:[1]-[40/52] --> d_loss: 1.675, total_g_loss:0.890, lr_loss:0.130, g_loss:0.864\n",
      "Epoch:[1]-[41/52] --> d_loss: 1.640, total_g_loss:0.885, lr_loss:0.182, g_loss:0.849\n",
      "Epoch:[1]-[42/52] --> d_loss: 1.718, total_g_loss:0.847, lr_loss:0.131, g_loss:0.821\n",
      "Epoch:[1]-[43/52] --> d_loss: 1.943, total_g_loss:0.773, lr_loss:0.102, g_loss:0.753\n",
      "Epoch:[1]-[44/52] --> d_loss: 1.656, total_g_loss:0.793, lr_loss:0.094, g_loss:0.774\n",
      "Epoch:[1]-[45/52] --> d_loss: 1.648, total_g_loss:0.812, lr_loss:0.098, g_loss:0.793\n",
      "Epoch:[1]-[46/52] --> d_loss: 1.682, total_g_loss:0.850, lr_loss:0.099, g_loss:0.830\n",
      "Epoch:[1]-[47/52] --> d_loss: 1.675, total_g_loss:0.866, lr_loss:0.139, g_loss:0.838\n",
      "Epoch:[1]-[48/52] --> d_loss: 1.653, total_g_loss:0.871, lr_loss:0.118, g_loss:0.848\n",
      "Epoch:[1]-[49/52] --> d_loss: 1.651, total_g_loss:0.857, lr_loss:0.097, g_loss:0.837\n",
      "Epoch:[1]-[50/52] --> d_loss: 1.642, total_g_loss:0.850, lr_loss:0.089, g_loss:0.832\n",
      "Epoch:[1]-[51/52] --> d_loss: 1.691, total_g_loss:0.854, lr_loss:0.094, g_loss:0.835\n",
      "Epoch (2/4)-------------------------------------------------\n",
      "Epoch:[2]-[0/52] --> d_loss: 1.717, total_g_loss:0.871, lr_loss:0.113, g_loss:0.848\n",
      "Epoch:[2]-[1/52] --> d_loss: 1.640, total_g_loss:0.842, lr_loss:0.091, g_loss:0.824\n",
      "Epoch:[2]-[2/52] --> d_loss: 1.655, total_g_loss:0.856, lr_loss:0.111, g_loss:0.834\n",
      "Epoch:[2]-[3/52] --> d_loss: 1.677, total_g_loss:0.840, lr_loss:0.183, g_loss:0.804\n",
      "Epoch:[2]-[4/52] --> d_loss: 1.633, total_g_loss:0.857, lr_loss:0.096, g_loss:0.838\n",
      "Epoch:[2]-[5/52] --> d_loss: 1.654, total_g_loss:0.840, lr_loss:0.086, g_loss:0.823\n",
      "Epoch:[2]-[6/52] --> d_loss: 1.616, total_g_loss:0.838, lr_loss:0.135, g_loss:0.811\n",
      "Epoch:[2]-[7/52] --> d_loss: 1.659, total_g_loss:0.850, lr_loss:0.095, g_loss:0.831\n",
      "Epoch:[2]-[8/52] --> d_loss: 1.601, total_g_loss:0.803, lr_loss:0.087, g_loss:0.785\n",
      "Epoch:[2]-[9/52] --> d_loss: 1.680, total_g_loss:0.847, lr_loss:0.090, g_loss:0.829\n",
      "Epoch:[2]-[10/52] --> d_loss: 1.628, total_g_loss:0.802, lr_loss:0.095, g_loss:0.783\n",
      "Epoch:[2]-[11/52] --> d_loss: 1.611, total_g_loss:0.828, lr_loss:0.085, g_loss:0.811\n",
      "Epoch:[2]-[12/52] --> d_loss: 1.660, total_g_loss:0.844, lr_loss:0.414, g_loss:0.762\n",
      "Epoch:[2]-[13/52] --> d_loss: 1.705, total_g_loss:0.924, lr_loss:0.130, g_loss:0.898\n",
      "Epoch:[2]-[14/52] --> d_loss: 1.661, total_g_loss:0.862, lr_loss:0.097, g_loss:0.843\n",
      "Epoch:[2]-[15/52] --> d_loss: 1.625, total_g_loss:0.836, lr_loss:0.096, g_loss:0.817\n",
      "Epoch:[2]-[16/52] --> d_loss: 1.632, total_g_loss:0.816, lr_loss:0.089, g_loss:0.798\n",
      "Epoch:[2]-[17/52] --> d_loss: 1.577, total_g_loss:0.792, lr_loss:0.091, g_loss:0.773\n",
      "Epoch:[2]-[18/52] --> d_loss: 1.628, total_g_loss:0.811, lr_loss:0.103, g_loss:0.790\n",
      "Epoch:[2]-[19/52] --> d_loss: 1.618, total_g_loss:0.833, lr_loss:0.110, g_loss:0.811\n",
      "Epoch:[2]-[20/52] --> d_loss: 1.614, total_g_loss:0.820, lr_loss:0.093, g_loss:0.802\n",
      "Epoch:[2]-[21/52] --> d_loss: 1.613, total_g_loss:0.791, lr_loss:0.099, g_loss:0.771\n",
      "Epoch:[2]-[22/52] --> d_loss: 1.632, total_g_loss:0.796, lr_loss:0.132, g_loss:0.769\n"
     ]
    },
    {
     "name": "stdout",
     "output_type": "stream",
     "text": [
      "Epoch:[2]-[23/52] --> d_loss: 1.642, total_g_loss:0.800, lr_loss:0.098, g_loss:0.780\n",
      "Epoch:[2]-[24/52] --> d_loss: 1.610, total_g_loss:0.782, lr_loss:0.083, g_loss:0.765\n",
      "Epoch:[2]-[25/52] --> d_loss: 1.608, total_g_loss:0.789, lr_loss:0.080, g_loss:0.773\n",
      "Epoch:[2]-[26/52] --> d_loss: 1.627, total_g_loss:0.810, lr_loss:0.096, g_loss:0.790\n",
      "Epoch:[2]-[27/52] --> d_loss: 1.593, total_g_loss:0.825, lr_loss:0.086, g_loss:0.808\n",
      "Epoch:[2]-[28/52] --> d_loss: 1.585, total_g_loss:0.777, lr_loss:0.230, g_loss:0.731\n",
      "Epoch:[2]-[29/52] --> d_loss: 1.666, total_g_loss:0.903, lr_loss:0.126, g_loss:0.878\n",
      "Epoch:[2]-[30/52] --> d_loss: 1.673, total_g_loss:0.852, lr_loss:0.103, g_loss:0.831\n",
      "Epoch:[2]-[31/52] --> d_loss: 1.615, total_g_loss:0.813, lr_loss:0.088, g_loss:0.795\n",
      "Epoch:[2]-[32/52] --> d_loss: 1.576, total_g_loss:0.760, lr_loss:0.096, g_loss:0.741\n",
      "Epoch:[2]-[33/52] --> d_loss: 1.694, total_g_loss:0.784, lr_loss:0.138, g_loss:0.757\n",
      "Epoch:[2]-[34/52] --> d_loss: 1.650, total_g_loss:0.795, lr_loss:0.090, g_loss:0.777\n",
      "Epoch:[2]-[35/52] --> d_loss: 1.608, total_g_loss:0.799, lr_loss:0.081, g_loss:0.783\n",
      "Epoch:[2]-[36/52] --> d_loss: 1.582, total_g_loss:0.800, lr_loss:0.086, g_loss:0.782\n",
      "Epoch:[2]-[37/52] --> d_loss: 1.577, total_g_loss:0.807, lr_loss:0.079, g_loss:0.791\n",
      "Epoch:[2]-[38/52] --> d_loss: 1.611, total_g_loss:0.802, lr_loss:0.072, g_loss:0.788\n",
      "Epoch:[2]-[39/52] --> d_loss: 1.584, total_g_loss:0.809, lr_loss:0.076, g_loss:0.794\n",
      "Epoch:[2]-[40/52] --> d_loss: 1.570, total_g_loss:1.334, lr_loss:0.270, g_loss:1.280\n",
      "Epoch:[2]-[41/52] --> d_loss: 2.474, total_g_loss:0.999, lr_loss:0.231, g_loss:0.953\n",
      "Epoch:[2]-[42/52] --> d_loss: 1.548, total_g_loss:0.882, lr_loss:0.206, g_loss:0.841\n",
      "Epoch:[2]-[43/52] --> d_loss: 1.500, total_g_loss:0.619, lr_loss:0.145, g_loss:0.590\n",
      "Epoch:[2]-[44/52] --> d_loss: 2.250, total_g_loss:1.190, lr_loss:0.159, g_loss:1.158\n",
      "Epoch:[2]-[45/52] --> d_loss: 1.595, total_g_loss:0.667, lr_loss:0.178, g_loss:0.631\n",
      "Epoch:[2]-[46/52] --> d_loss: 1.720, total_g_loss:1.135, lr_loss:0.154, g_loss:1.104\n",
      "Epoch:[2]-[47/52] --> d_loss: 2.128, total_g_loss:0.699, lr_loss:0.150, g_loss:0.669\n",
      "Epoch:[2]-[48/52] --> d_loss: 1.832, total_g_loss:0.839, lr_loss:0.204, g_loss:0.798\n",
      "Epoch:[2]-[49/52] --> d_loss: 1.590, total_g_loss:0.825, lr_loss:0.171, g_loss:0.791\n",
      "Epoch:[2]-[50/52] --> d_loss: 1.681, total_g_loss:0.920, lr_loss:0.116, g_loss:0.896\n",
      "Epoch:[2]-[51/52] --> d_loss: 1.676, total_g_loss:0.853, lr_loss:0.119, g_loss:0.829\n",
      "Epoch (3/4)-------------------------------------------------\n",
      "Epoch:[3]-[0/52] --> d_loss: 1.582, total_g_loss:0.833, lr_loss:0.139, g_loss:0.806\n",
      "Epoch:[3]-[1/52] --> d_loss: 1.609, total_g_loss:0.892, lr_loss:0.115, g_loss:0.869\n",
      "Epoch:[3]-[2/52] --> d_loss: 1.550, total_g_loss:0.803, lr_loss:0.152, g_loss:0.772\n",
      "Epoch:[3]-[3/52] --> d_loss: 1.537, total_g_loss:0.906, lr_loss:0.115, g_loss:0.883\n",
      "Epoch:[3]-[4/52] --> d_loss: 1.619, total_g_loss:0.808, lr_loss:0.105, g_loss:0.787\n",
      "Epoch:[3]-[5/52] --> d_loss: 1.502, total_g_loss:0.792, lr_loss:0.107, g_loss:0.770\n",
      "Epoch:[3]-[6/52] --> d_loss: 1.480, total_g_loss:0.773, lr_loss:0.132, g_loss:0.746\n",
      "Epoch:[3]-[7/52] --> d_loss: 1.526, total_g_loss:0.747, lr_loss:0.124, g_loss:0.722\n",
      "Epoch:[3]-[8/52] --> d_loss: 1.542, total_g_loss:0.779, lr_loss:0.126, g_loss:0.754\n",
      "Epoch:[3]-[9/52] --> d_loss: 1.440, total_g_loss:0.723, lr_loss:0.116, g_loss:0.700\n",
      "Epoch:[3]-[10/52] --> d_loss: 1.580, total_g_loss:0.760, lr_loss:0.138, g_loss:0.732\n",
      "Epoch:[3]-[11/52] --> d_loss: 1.518, total_g_loss:0.792, lr_loss:0.123, g_loss:0.767\n",
      "Epoch:[3]-[12/52] --> d_loss: 1.470, total_g_loss:0.620, lr_loss:0.191, g_loss:0.581\n",
      "Epoch:[3]-[13/52] --> d_loss: 1.728, total_g_loss:0.750, lr_loss:0.158, g_loss:0.719\n",
      "Epoch:[3]-[14/52] --> d_loss: 1.687, total_g_loss:0.926, lr_loss:0.186, g_loss:0.889\n",
      "Epoch:[3]-[15/52] --> d_loss: 1.700, total_g_loss:0.903, lr_loss:0.178, g_loss:0.868\n",
      "Epoch:[3]-[16/52] --> d_loss: 1.646, total_g_loss:0.746, lr_loss:0.112, g_loss:0.724\n",
      "Epoch:[3]-[17/52] --> d_loss: 1.630, total_g_loss:0.759, lr_loss:0.130, g_loss:0.733\n",
      "Epoch:[3]-[18/52] --> d_loss: 1.677, total_g_loss:0.856, lr_loss:0.164, g_loss:0.823\n",
      "Epoch:[3]-[19/52] --> d_loss: 1.605, total_g_loss:0.771, lr_loss:0.141, g_loss:0.743\n",
      "Epoch:[3]-[20/52] --> d_loss: 1.694, total_g_loss:0.818, lr_loss:0.127, g_loss:0.793\n",
      "Epoch:[3]-[21/52] --> d_loss: 1.630, total_g_loss:0.865, lr_loss:0.130, g_loss:0.839\n",
      "Epoch:[3]-[22/52] --> d_loss: 1.549, total_g_loss:0.843, lr_loss:0.142, g_loss:0.815\n",
      "Epoch:[3]-[23/52] --> d_loss: 1.635, total_g_loss:0.782, lr_loss:0.135, g_loss:0.755\n",
      "Epoch:[3]-[24/52] --> d_loss: 1.730, total_g_loss:0.819, lr_loss:0.114, g_loss:0.796\n",
      "Epoch:[3]-[25/52] --> d_loss: 1.565, total_g_loss:0.773, lr_loss:0.136, g_loss:0.746\n",
      "Epoch:[3]-[26/52] --> d_loss: 1.497, total_g_loss:0.895, lr_loss:0.145, g_loss:0.866\n",
      "Epoch:[3]-[27/52] --> d_loss: 1.529, total_g_loss:0.860, lr_loss:0.292, g_loss:0.802\n",
      "Epoch:[3]-[28/52] --> d_loss: 1.572, total_g_loss:0.716, lr_loss:0.117, g_loss:0.693\n",
      "Epoch:[3]-[29/52] --> d_loss: 1.534, total_g_loss:0.699, lr_loss:0.112, g_loss:0.676\n",
      "Epoch:[3]-[30/52] --> d_loss: 1.508, total_g_loss:0.678, lr_loss:0.137, g_loss:0.651\n",
      "Epoch:[3]-[31/52] --> d_loss: 1.769, total_g_loss:0.910, lr_loss:0.520, g_loss:0.805\n",
      "Epoch:[3]-[32/52] --> d_loss: 1.442, total_g_loss:0.870, lr_loss:0.545, g_loss:0.761\n",
      "Epoch:[3]-[33/52] --> d_loss: 1.521, total_g_loss:0.848, lr_loss:0.263, g_loss:0.796\n",
      "Epoch:[3]-[34/52] --> d_loss: 1.413, total_g_loss:0.746, lr_loss:0.267, g_loss:0.693\n",
      "Epoch:[3]-[35/52] --> d_loss: 1.581, total_g_loss:0.817, lr_loss:0.201, g_loss:0.777\n",
      "Epoch:[3]-[36/52] --> d_loss: 1.620, total_g_loss:0.721, lr_loss:0.141, g_loss:0.693\n",
      "Epoch:[3]-[37/52] --> d_loss: 1.674, total_g_loss:0.737, lr_loss:0.137, g_loss:0.710\n",
      "Epoch:[3]-[38/52] --> d_loss: 1.409, total_g_loss:0.887, lr_loss:0.174, g_loss:0.853\n",
      "Epoch:[3]-[39/52] --> d_loss: 1.544, total_g_loss:0.719, lr_loss:0.115, g_loss:0.696\n",
      "Epoch:[3]-[40/52] --> d_loss: 1.532, total_g_loss:0.697, lr_loss:0.141, g_loss:0.669\n",
      "Epoch:[3]-[41/52] --> d_loss: 1.634, total_g_loss:0.743, lr_loss:0.196, g_loss:0.703\n",
      "Epoch:[3]-[42/52] --> d_loss: 1.704, total_g_loss:1.011, lr_loss:0.370, g_loss:0.937\n",
      "Epoch:[3]-[43/52] --> d_loss: 1.578, total_g_loss:0.815, lr_loss:0.127, g_loss:0.790\n",
      "Epoch:[3]-[44/52] --> d_loss: 1.631, total_g_loss:0.901, lr_loss:0.134, g_loss:0.874\n",
      "Epoch:[3]-[45/52] --> d_loss: 1.629, total_g_loss:0.830, lr_loss:0.123, g_loss:0.805\n",
      "Epoch:[3]-[46/52] --> d_loss: 1.588, total_g_loss:0.860, lr_loss:0.121, g_loss:0.836\n",
      "Epoch:[3]-[47/52] --> d_loss: 1.534, total_g_loss:0.797, lr_loss:0.099, g_loss:0.777\n",
      "Epoch:[3]-[48/52] --> d_loss: 1.487, total_g_loss:0.750, lr_loss:0.147, g_loss:0.721\n",
      "Epoch:[3]-[49/52] --> d_loss: 1.670, total_g_loss:1.115, lr_loss:0.356, g_loss:1.044\n",
      "Epoch:[3]-[50/52] --> d_loss: 1.435, total_g_loss:0.706, lr_loss:0.133, g_loss:0.679\n",
      "Epoch:[3]-[51/52] --> d_loss: 1.652, total_g_loss:0.785, lr_loss:0.099, g_loss:0.765\n"
     ]
    },
    {
     "data": {
      "image/png": "[encoded data removed]",
      "text/plain": [
       "<Figure size 432x288 with 1 Axes>"
      ]
     },
     "metadata": {
      "needs_background": "light"
     },
     "output_type": "display_data"
    }
   ],
   "source": [
    "class ALOCC_Model():\n",
    "    def __init__(self,\n",
    "               input_height=28,input_width=28, output_height=28, output_width=28,\n",
    "               attention_label=1, is_training=True,\n",
    "               z_dim=100, gf_dim=16, df_dim=16, c_dim=3,\n",
    "               dataset_name=None, dataset_address=None, input_fname_pattern=None,\n",
    "               checkpoint_dir='checkpoint', log_dir='log', sample_dir='sample', r_alpha = 0.2,\n",
    "               kb_work_on_patch=True, nd_patch_size=(10, 10), n_stride=1,\n",
    "               n_fetch_data=10):\n",
    "\n",
    "        self.b_work_on_patch = kb_work_on_patch\n",
    "        self.sample_dir = sample_dir\n",
    "\n",
    "        self.is_training = is_training\n",
    "\n",
    "        self.r_alpha = r_alpha\n",
    "\n",
    "        self.input_height = input_height\n",
    "        self.input_width = input_width\n",
    "        self.output_height = output_height\n",
    "        self.output_width = output_width\n",
    "\n",
    "        self.z_dim = z_dim\n",
    "\n",
    "        self.gf_dim = gf_dim\n",
    "        self.df_dim = df_dim\n",
    "\n",
    "        self.dataset_name = dataset_name\n",
    "        self.dataset_address= dataset_address\n",
    "        self.input_fname_pattern = input_fname_pattern\n",
    "        self.checkpoint_dir = checkpoint_dir\n",
    "        self.log_dir = log_dir\n",
    "\n",
    "        self.attention_label = attention_label\n",
    "        if self.is_training:\n",
    "            logging.basicConfig(filename='ALOCC_loss.log', level=logging.INFO)  #除錯用\n",
    "\n",
    "        if self.dataset_name == 'mnist':\n",
    "            (X_train, y_train), (_, _) = mnist.load_data()\n",
    "            \n",
    "            X_train = X_train / 255\n",
    "            specific_idx = np.where(y_train == self.attention_label)[0]\n",
    "            self.data = X_train[specific_idx].reshape(-1, 28, 28, 1)\n",
    "            self.c_dim = 1\n",
    "        else:\n",
    "            assert('Error in loading dataset')\n",
    "\n",
    "        self.grayscale = (self.c_dim == 1)\n",
    "        self.build_model()\n",
    "\n",
    "    def build_generator(self, input_shape):\n",
    "        \n",
    "        image = Input(shape=input_shape, name='z')\n",
    "        # Encoder.\n",
    "        x = Conv2D(filters=self.df_dim * 2, kernel_size = 5, strides=2, padding='same', name='g_encoder_h0_conv')(image)\n",
    "        x = BatchNormalization()(x)\n",
    "        x = LeakyReLU()(x)\n",
    "        x = Conv2D(filters=self.df_dim * 4, kernel_size = 5, strides=2, padding='same', name='g_encoder_h1_conv')(x)\n",
    "        x = BatchNormalization()(x)\n",
    "        x = LeakyReLU()(x)\n",
    "        x = Conv2D(filters=self.df_dim * 8, kernel_size = 5, strides=2, padding='same', name='g_encoder_h2_conv')(x)\n",
    "        x = BatchNormalization()(x)\n",
    "        x = LeakyReLU()(x)\n",
    "\n",
    "        # Decoder.\n",
    "        x = Conv2D(self.gf_dim*1, kernel_size=5, activation='relu', padding='same')(x)\n",
    "        x = UpSampling2D((2, 2))(x)\n",
    "        x = Conv2D(self.gf_dim*1, kernel_size=5, activation='relu', padding='same')(x)\n",
    "        x = UpSampling2D((2, 2))(x)\n",
    "        x = Conv2D(self.gf_dim*2, kernel_size=3, activation='relu')(x)\n",
    "        x = UpSampling2D((2, 2))(x)\n",
    "        x = Conv2D(self.c_dim, kernel_size=5, activation='sigmoid', padding='same')(x)\n",
    "        return Model(image, x, name='R')\n",
    "\n",
    "    def build_discriminator(self, input_shape):\n",
    "\n",
    "        image = Input(shape=input_shape, name='d_input')\n",
    "        x = Conv2D(filters=self.df_dim, kernel_size = 5, strides=2, padding='same', name='d_h0_conv')(image)\n",
    "        x = LeakyReLU()(x)\n",
    "\n",
    "        x = Conv2D(filters=self.df_dim*2, kernel_size = 5, strides=2, padding='same', name='d_h1_conv')(x)\n",
    "        x = BatchNormalization()(x)\n",
    "        x = LeakyReLU()(x)\n",
    "\n",
    "        x = Conv2D(filters=self.df_dim*4, kernel_size = 5, strides=2, padding='same', name='d_h2_conv')(x)\n",
    "        x = BatchNormalization()(x)\n",
    "        x = LeakyReLU()(x)\n",
    "\n",
    "        x = Conv2D(filters=self.df_dim*8, kernel_size = 5, strides=2, padding='same', name='d_h3_conv')(x)\n",
    "        x = BatchNormalization()(x)\n",
    "        x = LeakyReLU()(x)\n",
    "\n",
    "        x = Flatten()(x)\n",
    "        x = Dense(1, activation='sigmoid', name='d_h3_lin')(x)\n",
    "\n",
    "        return Model(image, x, name='D')\n",
    "\n",
    "    def build_model(self):\n",
    "        image_dims = [self.input_height, self.input_width, self.c_dim]\n",
    "        optimizer = RMSprop(lr=0.002, clipvalue=1.0, decay=1e-8)\n",
    "       \n",
    "        self.discriminator = self.build_discriminator(image_dims)\n",
    "\n",
    "        self.discriminator.compile(optimizer=optimizer, loss='binary_crossentropy')\n",
    "\n",
    "        self.generator = self.build_generator(image_dims)\n",
    "        img = Input(shape=image_dims)\n",
    "\n",
    "        reconstructed_img = self.generator(img)\n",
    "\n",
    "        self.discriminator.trainable = False   #凍結discriminator的權重\n",
    "        validity = self.discriminator(reconstructed_img)\n",
    "        \n",
    "        self.adversarial_model = Model(inputs=img, outputs=[reconstructed_img, validity])\n",
    "        self.adversarial_model.compile(loss=['binary_crossentropy', 'binary_crossentropy'],\n",
    "            loss_weights=[self.r_alpha, 1], optimizer=optimizer)\n",
    "\n",
    "        print('\\n\\rdiscriminator')\n",
    "        self.discriminator.summary()\n",
    "        \n",
    "        print('\\n\\rgenerator')\n",
    "        self.generator.summary()\n",
    "\n",
    "        print('\\n\\radversarial_model')\n",
    "        self.adversarial_model.summary()\n",
    "\n",
    "    \n",
    "    def train(self, epochs, batch_size = 128, sample_interval=500):\n",
    "       \n",
    "        counter = 1\n",
    "       \n",
    "        plot_epochs = []\n",
    "        plot_g_recon_losses = []\n",
    "        plot_d_losses = []\n",
    "\n",
    "        if self.dataset_name == 'mnist':\n",
    "            sample_w_noise = get_noisy_data(self.data)\n",
    "\n",
    "        ones = np.ones((batch_size, 1))\n",
    "        zeros = np.zeros((batch_size, 1))\n",
    "\n",
    "        for epoch in range(epochs):\n",
    "            print('Epoch ({}/{})-------------------------------------------------'.format(epoch,epochs))\n",
    "            if self.dataset_name == 'mnist':\n",
    "                batch_idxs = len(self.data) // batch_size\n",
    "             \n",
    "            for idx in range(0, batch_idxs):\n",
    "               \n",
    "                if self.dataset_name == 'mnist':\n",
    "                    batch = self.data[idx * batch_size:(idx + 1) * batch_size]\n",
    "                    batch_noise = sample_w_noise[idx * batch_size:(idx + 1) * batch_size]\n",
    "                    batch_clean = self.data[idx * batch_size:(idx + 1) * batch_size]\n",
    "               \n",
    "                batch_images = np.array(batch).astype(np.float32)\n",
    "                batch_noise_images = np.array(batch_noise).astype(np.float32)\n",
    "                batch_clean_images = np.array(batch_clean).astype(np.float32)\n",
    "                if self.dataset_name == 'mnist':\n",
    "                    batch_fake_images = self.generator.predict(batch_noise_images)\n",
    "                   \n",
    "                    d_loss_real = self.discriminator.train_on_batch(batch_images, ones)\n",
    "                    d_loss_fake = self.discriminator.train_on_batch(batch_fake_images, zeros)\n",
    "\n",
    "                    self.adversarial_model.train_on_batch(batch_noise_images, [batch_clean_images, ones])  #(X,Y)\n",
    "                    g_loss = self.adversarial_model.train_on_batch(batch_noise_images, [batch_clean_images, ones])    \n",
    "                    plot_epochs.append(epoch+idx/batch_idxs)\n",
    "                    plot_g_recon_losses.append(g_loss[0])\n",
    "                    plot_d_losses.append(d_loss_real+d_loss_fake)\n",
    "                counter += 1\n",
    "                msg = 'Epoch:[{0}]-[{1}/{2}] --> d_loss: {3:>0.3f}, total_g_loss:{4:>0.3f}, lr_loss:{5:>0.3f}, g_loss:{6:>0.3f}'.format(epoch, idx, batch_idxs, d_loss_real+d_loss_fake, g_loss[0], g_loss[1],  g_loss[2])\n",
    "                print(msg)\n",
    "                logging.info(msg)\n",
    "               \n",
    "        plt.title('R/D network losses')\n",
    "        plt.xlabel('Epoch')\n",
    "        plt.ylabel('training loss')\n",
    "        plt.grid()\n",
    "        plt.plot(plot_epochs,plot_g_recon_losses, \"r\", label=\"r_loss\")\n",
    "        plt.plot(plot_epochs,plot_d_losses, \"b\", label=\"d_loss\")\n",
    "        plt.legend()\n",
    "        plt.savefig('plot_losses.png')\n",
    "    \n",
    "\n",
    "if __name__ == '__main__':\n",
    "    model = ALOCC_Model(dataset_name='mnist', input_height=28,input_width=28)\n",
    "    model.train(epochs=4, batch_size=128, sample_interval=500)"
   ]
  },
  {
   "cell_type": "code",
   "execution_count": 9,
   "metadata": {},
   "outputs": [],
   "source": [
    "(X_train, y_train), (_, _) = mnist.load_data()\n",
    "X_train = X_train / 255"
   ]
  },
  {
   "cell_type": "code",
   "execution_count": 10,
   "metadata": {},
   "outputs": [],
   "source": [
    "def test_reconstruction(label, data_index = 11):\n",
    "    specific_idx = np.where(y_train == label)[0]\n",
    "    if data_index >= len(X_train):\n",
    "        data_index = 0\n",
    "    data = X_train[specific_idx].reshape(-1, 28, 28, 1)[data_index:data_index+1]\n",
    "    model_predicts = model.adversarial_model.predict(data)\n",
    "    \n",
    "    fig= plt.figure(figsize=(8, 8))\n",
    "    columns = 1\n",
    "    rows = 2\n",
    "    fig.add_subplot(rows, columns, 1)\n",
    "    input_image = data.reshape((28, 28))\n",
    "    reconstructed_image = model_predicts[0].reshape((28, 28))\n",
    "    plt.title('Input')\n",
    "    plt.imshow(input_image, label='Input')\n",
    "    fig.add_subplot(rows, columns, 2)\n",
    "    plt.title('Reconstruction')\n",
    "    plt.imshow(reconstructed_image, label='Reconstructed')\n",
    "    plt.show()\n",
    "    \n",
    "    y_true = K.variable(reconstructed_image)\n",
    "    y_pred = K.variable(input_image)\n",
    "    error = K.eval(binary_crossentropy(y_true, y_pred)).mean()\n",
    "    print(model_predicts[1])\n",
    "    print('Reconstruction loss:', error)\n",
    "    print('Discriminator Output:', model_predicts[1][0][0])"
   ]
  },
  {
   "cell_type": "code",
   "execution_count": 11,
   "metadata": {},
   "outputs": [
    {
     "data": {
      "image/png": "[encoded data removed]",
      "text/plain": [
       "<Figure size 576x576 with 2 Axes>"
      ]
     },
     "metadata": {
      "needs_background": "light"
     },
     "output_type": "display_data"
    },
    {
     "name": "stdout",
     "output_type": "stream",
     "text": [
      "[[0.35763392]]\n",
      "Reconstruction loss: 0.1767362\n",
      "Discriminator Output: 0.35763392\n"
     ]
    }
   ],
   "source": [
    "test_reconstruction(1)"
   ]
  },
  {
   "cell_type": "code",
   "execution_count": 12,
   "metadata": {},
   "outputs": [
    {
     "data": {
      "image/png": "[encoded data removed]",
      "text/plain": [
       "<Figure size 576x576 with 2 Axes>"
      ]
     },
     "metadata": {
      "needs_background": "light"
     },
     "output_type": "display_data"
    },
    {
     "name": "stdout",
     "output_type": "stream",
     "text": [
      "[[0.33657336]]\n",
      "Reconstruction loss: 0.99789613\n",
      "Discriminator Output: 0.33657336\n"
     ]
    }
   ],
   "source": [
    "test_reconstruction(2)"
   ]
  },
  {
   "cell_type": "code",
   "execution_count": 13,
   "metadata": {},
   "outputs": [
    {
     "data": {
      "image/png": "[encoded data removed]",
      "text/plain": [
       "<Figure size 576x576 with 2 Axes>"
      ]
     },
     "metadata": {
      "needs_background": "light"
     },
     "output_type": "display_data"
    },
    {
     "name": "stdout",
     "output_type": "stream",
     "text": [
      "[[0.4066729]]\n",
      "Reconstruction loss: 0.92308295\n",
      "Discriminator Output: 0.4066729\n"
     ]
    }
   ],
   "source": [
    "test_reconstruction(3)"
   ]
  },
  {
   "cell_type": "code",
   "execution_count": 14,
   "metadata": {},
   "outputs": [
    {
     "data": {
      "image/png": "[encoded data removed]",
      "text/plain": [
       "<Figure size 576x576 with 2 Axes>"
      ]
     },
     "metadata": {
      "needs_background": "light"
     },
     "output_type": "display_data"
    },
    {
     "name": "stdout",
     "output_type": "stream",
     "text": [
      "[[0.36911273]]\n",
      "Reconstruction loss: 1.1340187\n",
      "Discriminator Output: 0.36911273\n"
     ]
    }
   ],
   "source": [
    "test_reconstruction(4)"
   ]
  },
  {
   "cell_type": "code",
   "execution_count": 15,
   "metadata": {},
   "outputs": [
    {
     "data": {
      "image/png": "[encoded data removed]",
      "text/plain": [
       "<Figure size 576x576 with 2 Axes>"
      ]
     },
     "metadata": {
      "needs_background": "light"
     },
     "output_type": "display_data"
    },
    {
     "name": "stdout",
     "output_type": "stream",
     "text": [
      "[[0.28173214]]\n",
      "Reconstruction loss: 0.9502341\n",
      "Discriminator Output: 0.28173214\n"
     ]
    }
   ],
   "source": [
    "test_reconstruction(5)"
   ]
  },
  {
   "cell_type": "code",
   "execution_count": 16,
   "metadata": {},
   "outputs": [
    {
     "data": {
      "image/png": "[encoded data removed]",
      "text/plain": [
       "<Figure size 576x576 with 2 Axes>"
      ]
     },
     "metadata": {
      "needs_background": "light"
     },
     "output_type": "display_data"
    },
    {
     "name": "stdout",
     "output_type": "stream",
     "text": [
      "[[0.29842705]]\n",
      "Reconstruction loss: 1.0341847\n",
      "Discriminator Output: 0.29842705\n"
     ]
    }
   ],
   "source": [
    "test_reconstruction(6)"
   ]
  },
  {
   "cell_type": "code",
   "execution_count": 17,
   "metadata": {},
   "outputs": [
    {
     "data": {
      "image/png": "[encoded data removed]",
      "text/plain": [
       "<Figure size 576x576 with 2 Axes>"
      ]
     },
     "metadata": {
      "needs_background": "light"
     },
     "output_type": "display_data"
    },
    {
     "name": "stdout",
     "output_type": "stream",
     "text": [
      "[[0.36824948]]\n",
      "Reconstruction loss: 1.1271613\n",
      "Discriminator Output: 0.36824948\n"
     ]
    }
   ],
   "source": [
    "test_reconstruction(7)"
   ]
  },
  {
   "cell_type": "code",
   "execution_count": 18,
   "metadata": {},
   "outputs": [
    {
     "data": {
      "image/png": "[encoded data removed]",
      "text/plain": [
       "<Figure size 576x576 with 2 Axes>"
      ]
     },
     "metadata": {
      "needs_background": "light"
     },
     "output_type": "display_data"
    },
    {
     "name": "stdout",
     "output_type": "stream",
     "text": [
      "[[0.31330016]]\n",
      "Reconstruction loss: 0.95027286\n",
      "Discriminator Output: 0.31330016\n"
     ]
    }
   ],
   "source": [
    "test_reconstruction(8)"
   ]
  },
  {
   "cell_type": "code",
   "execution_count": 19,
   "metadata": {},
   "outputs": [
    {
     "data": {
      "image/png": "[encoded data removed]",
      "text/plain": [
       "<Figure size 576x576 with 2 Axes>"
      ]
     },
     "metadata": {
      "needs_background": "light"
     },
     "output_type": "display_data"
    },
    {
     "name": "stdout",
     "output_type": "stream",
     "text": [
      "[[0.33294496]]\n",
      "Reconstruction loss: 1.4965146\n",
      "Discriminator Output: 0.33294496\n"
     ]
    }
   ],
   "source": [
    "test_reconstruction(9)"
   ]
  },
  {
   "cell_type": "code",
   "execution_count": 20,
   "metadata": {},
   "outputs": [
    {
     "data": {
      "image/png": "[encoded data removed]",
      "text/plain": [
       "<Figure size 576x576 with 2 Axes>"
      ]
     },
     "metadata": {
      "needs_background": "light"
     },
     "output_type": "display_data"
    },
    {
     "name": "stdout",
     "output_type": "stream",
     "text": [
      "[[0.33245343]]\n",
      "Reconstruction loss: 0.77030605\n",
      "Discriminator Output: 0.33245343\n"
     ]
    }
   ],
   "source": [
    "test_reconstruction(0)"
   ]
  },
  {
   "cell_type": "code",
   "execution_count": null,
   "metadata": {},
   "outputs": [],
   "source": []
  }
 ],
 "metadata": {
  "kernelspec": {
   "display_name": "Python 3",
   "language": "python",
   "name": "python3"
  },
  "language_info": {
   "codemirror_mode": {
    "name": "ipython",
    "version": 3
   },
   "file_extension": ".py",
   "mimetype": "text/x-python",
   "name": "python",
   "nbconvert_exporter": "python",
   "pygments_lexer": "ipython3",
   "version": "3.7.3"
  }
 },
 "nbformat": 4,
 "nbformat_minor": 2
}
